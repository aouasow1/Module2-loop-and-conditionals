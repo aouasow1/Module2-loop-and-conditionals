{
 "cells": [
  {
   "cell_type": "code",
   "execution_count": 10,
   "id": "eb4ba812-89c7-4212-bce5-280a3114ad84",
   "metadata": {},
   "outputs": [
    {
     "name": "stdout",
     "output_type": "stream",
     "text": [
      "['mozzarelle', 'cinderella', 'salmonella']\n"
     ]
    }
   ],
   "source": [
    "#7.4 Make a list called things with these three strings as elements: \"mozzarella\", \"cinderella\", \"salmonella\"\n",
    "things = [\"mozzarelle\", \"cinderella\", \"salmonella\"]\n",
    "print (things)\n"
   ]
  },
  {
   "cell_type": "code",
   "execution_count": 11,
   "id": "aec18943-7d75-4a20-ad67-8efc98c11137",
   "metadata": {},
   "outputs": [
    {
     "name": "stdout",
     "output_type": "stream",
     "text": [
      "['mozzarelle', 'cinderella', 'salmonella']\n"
     ]
    }
   ],
   "source": [
    "#7.5 Capitalize the element in things that refers to a person and then print the list. Did it change the element in the list?\n",
    "things[1].capitalize()\n",
    "print (things)\n"
   ]
  },
  {
   "cell_type": "code",
   "execution_count": 12,
   "id": "ddc86915-f27a-4fe6-aabd-5af26e81e47f",
   "metadata": {},
   "outputs": [
    {
     "name": "stdout",
     "output_type": "stream",
     "text": [
      "['mozzarelle', 'Cinderella', 'salmonella']\n"
     ]
    }
   ],
   "source": [
    "\n",
    "things[1] = things[1].capitalize()\n",
    "print (things)\n"
   ]
  },
  {
   "cell_type": "code",
   "execution_count": 13,
   "id": "63929be6-278f-49d8-9c66-ba46a21fc449",
   "metadata": {},
   "outputs": [
    {
     "name": "stdout",
     "output_type": "stream",
     "text": [
      "['MOZZARELLE', 'Cinderella', 'salmonella']\n"
     ]
    }
   ],
   "source": [
    "#7.6 Make the cheesy element of things all uppercase and then print the list.\n",
    "things[0] = things[0].upper()\n",
    "print (things)"
   ]
  },
  {
   "cell_type": "code",
   "execution_count": 15,
   "id": "36c2ef7b-57f0-4a2c-a83f-dc043d6f5025",
   "metadata": {},
   "outputs": [
    {
     "name": "stdout",
     "output_type": "stream",
     "text": [
      "['MOZZARELLE', 'Cinderella']\n"
     ]
    }
   ],
   "source": [
    "#7.7 Delete the disease element from things, collect your Nobel Prize, and print the list.\n",
    "del things[2]\n",
    "print (things)\n"
   ]
  },
  {
   "cell_type": "code",
   "execution_count": 17,
   "id": "442511c0-5da1-4d66-9363-bb6c07b5f867",
   "metadata": {},
   "outputs": [
    {
     "name": "stdout",
     "output_type": "stream",
     "text": [
      "['Harry', 'Ron', 'Hermione']\n"
     ]
    }
   ],
   "source": [
    "#9.1 Define a function called good() that returns the following list: ['Harry', 'Ron', 'Hermione'].\n",
    "def good():\n",
    "    return [\"Harry\", \"Ron\", \"Hermione\"]\n",
    "print (good())\n",
    "    "
   ]
  },
  {
   "cell_type": "code",
   "execution_count": 29,
   "id": "432bf762-c78e-43e2-8833-af7ff826b6f8",
   "metadata": {},
   "outputs": [
    {
     "name": "stdout",
     "output_type": "stream",
     "text": [
      "The third odd number is 5\n",
      "5\n"
     ]
    }
   ],
   "source": [
    "#9.2  Define a generator function called get_odds() that returns the odd numbers from range(10). Use a for loop to find and print the third value returned.\n",
    "def get_odds():\n",
    "    for number in range (1, 10, 2):\n",
    "        yield number\n",
    "\n",
    "count = 1\n",
    "for number in get_odds():\n",
    "    if count == 3:\n",
    "        print (\"The third odd number is\", number)\n",
    "        break\n",
    "    count += 1\n",
    "print (number)\n",
    "\n",
    "    "
   ]
  },
  {
   "cell_type": "code",
   "execution_count": null,
   "id": "dcb369cf-fa08-4953-9197-3f496ac02cc4",
   "metadata": {},
   "outputs": [],
   "source": []
  },
  {
   "cell_type": "code",
   "execution_count": null,
   "id": "c2caa490-3929-4b77-85fd-c70879d6758d",
   "metadata": {},
   "outputs": [],
   "source": []
  },
  {
   "cell_type": "code",
   "execution_count": null,
   "id": "638e5789-2e2a-4e80-8742-aad75691039f",
   "metadata": {},
   "outputs": [],
   "source": []
  }
 ],
 "metadata": {
  "kernelspec": {
   "display_name": "Python 3 (ipykernel)",
   "language": "python",
   "name": "python3"
  },
  "language_info": {
   "codemirror_mode": {
    "name": "ipython",
    "version": 3
   },
   "file_extension": ".py",
   "mimetype": "text/x-python",
   "name": "python",
   "nbconvert_exporter": "python",
   "pygments_lexer": "ipython3",
   "version": "3.12.7"
  }
 },
 "nbformat": 4,
 "nbformat_minor": 5
}
