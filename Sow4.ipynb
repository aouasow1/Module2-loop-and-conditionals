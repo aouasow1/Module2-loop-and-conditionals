{
 "cells": [
  {
   "cell_type": "code",
   "execution_count": 35,
   "id": "b7dc3b19-dd53-4dda-b97a-bec76204cf0f",
   "metadata": {},
   "outputs": [
    {
     "name": "stdout",
     "output_type": "stream",
     "text": [
      "Enter the details for your car.\n"
     ]
    },
    {
     "name": "stdin",
     "output_type": "stream",
     "text": [
      "Year:  2014\n",
      "Make:  Ford\n",
      "Model:  Escape\n",
      "Number of doors (2 or 4):  4\n",
      "Type of roof (solid or sun roof):  sun roof\n"
     ]
    },
    {
     "name": "stdout",
     "output_type": "stream",
     "text": [
      "Vehicle type: car\n",
      "Year: 2014\n",
      "Make: Ford\n",
      "Model: Escape\n",
      "Number of doors: 4\n",
      "Type of roof: sun roof\n"
     ]
    }
   ],
   "source": [
    "\"\"\"\n",
    "Author: Aoua Sow\n",
    "Date: 11/09/2024\n",
    "Desc:an app that will accept user input for a car\n",
    "\"\"\"\n",
    "class Vehicle:\n",
    "    def __init__(self, vehicle_type):\n",
    "        self.vehicle_type = vehicle_type\n",
    "\n",
    "class Automobile(Vehicle):\n",
    "    def __init__(self, year, make, model, doors, roof):\n",
    "        super().__init__(\"car\") # Set vehicle type to \"car\"\n",
    "        self.year = year\n",
    "        self.make = make\n",
    "        self.model = model\n",
    "        self.doors = doors\n",
    "        self.roof = roof\n",
    "\n",
    "    def display_info(self):\n",
    "        print(f\"Vehicle type: {self.vehicle_type}\")\n",
    "        print(f\"Year: {self.year}\")\n",
    "        print(f\"Make: {self.make}\")\n",
    "        print(f\"Model: {self.model}\")\n",
    "        print(f\"Number of doors: {self.doors}\")\n",
    "        print(f\"Type of roof: {self.roof}\")\n",
    "\n",
    "   # Main app logic\n",
    "    def main():\n",
    "        print(\"Enter the details for your car.\")\n",
    "\n",
    "        year = input(\"Year: \")\n",
    "        make = input(\"Make: \")\n",
    "        model = input(\"Model: \")\n",
    "        doors = input(\"Number of doors (2 or 4): \")\n",
    "        roof = input(\"Type of roof (solid or sun roof): \")\n",
    "\n",
    "    # Create an instance of Automobile with user input\n",
    "        car = Automobile(year, make, model, doors, roof)\n",
    "\n",
    "    # Display the car information\n",
    "        car.display_info()\n",
    "\n",
    "# Run the app\n",
    "    if __name__ == \"__main__\":\n",
    "        main()"
   ]
  },
  {
   "cell_type": "code",
   "execution_count": null,
   "id": "c9a6935f-3f4a-47f5-88be-dd1a306723c0",
   "metadata": {},
   "outputs": [],
   "source": []
  },
  {
   "cell_type": "code",
   "execution_count": null,
   "id": "c6651685-8bf4-418c-a946-994efbf0aaee",
   "metadata": {},
   "outputs": [],
   "source": []
  },
  {
   "cell_type": "code",
   "execution_count": null,
   "id": "70200ac2-632f-48ac-862f-91ff262a8743",
   "metadata": {},
   "outputs": [],
   "source": []
  }
 ],
 "metadata": {
  "kernelspec": {
   "display_name": "Python 3 (ipykernel)",
   "language": "python",
   "name": "python3"
  },
  "language_info": {
   "codemirror_mode": {
    "name": "ipython",
    "version": 3
   },
   "file_extension": ".py",
   "mimetype": "text/x-python",
   "name": "python",
   "nbconvert_exporter": "python",
   "pygments_lexer": "ipython3",
   "version": "3.12.7"
  }
 },
 "nbformat": 4,
 "nbformat_minor": 5
}
