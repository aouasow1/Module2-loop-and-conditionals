{
 "cells": [
  {
   "cell_type": "code",
   "execution_count": 4,
   "id": "e021cabe-6145-46a4-9625-160d806d38c3",
   "metadata": {},
   "outputs": [
    {
     "name": "stdout",
     "output_type": "stream",
     "text": [
      "too hight\n"
     ]
    }
   ],
   "source": [
    "#4.1\n",
    "secret = 4\n",
    "guest = 7\n",
    "if guest < secret:\n",
    "    print (\"too low\")\n",
    "elif guest > secret:\n",
    "    print (\"too hight\")\n",
    "else:\n",
    "    if guest == secret:\n",
    "      print (\"just right\")\n",
    "\n",
    "    "
   ]
  },
  {
   "cell_type": "code",
   "execution_count": 5,
   "id": "5f61b73b-6337-41bd-89f0-791d5a080790",
   "metadata": {},
   "outputs": [
    {
     "name": "stdout",
     "output_type": "stream",
     "text": [
      "Cherry\n"
     ]
    }
   ],
   "source": [
    "#4.2\n",
    "small = True\n",
    "green = False\n",
    "if small:\n",
    "    if green:\n",
    "        print (\"Pea\")\n",
    "    else:\n",
    "        print (\"Cherry\")\n",
    "else:\n",
    "    if green:\n",
    "        print (\"Watermelon\")\n",
    "    else:\n",
    "        print (\"Pumpkin\")\n",
    "        "
   ]
  },
  {
   "cell_type": "code",
   "execution_count": null,
   "id": "3249ba31-23c7-43ee-ae21-dc9df511b8be",
   "metadata": {},
   "outputs": [],
   "source": []
  }
 ],
 "metadata": {
  "kernelspec": {
   "display_name": "Python 3 (ipykernel)",
   "language": "python",
   "name": "python3"
  },
  "language_info": {
   "codemirror_mode": {
    "name": "ipython",
    "version": 3
   },
   "file_extension": ".py",
   "mimetype": "text/x-python",
   "name": "python",
   "nbconvert_exporter": "python",
   "pygments_lexer": "ipython3",
   "version": "3.12.7"
  }
 },
 "nbformat": 4,
 "nbformat_minor": 5
}
