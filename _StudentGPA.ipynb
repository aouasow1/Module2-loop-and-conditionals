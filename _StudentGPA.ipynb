{
 "cells": [
  {
   "cell_type": "code",
   "execution_count": null,
   "id": "e31ec9cf-63d8-4f51-89f8-2e22dbe3912d",
   "metadata": {},
   "outputs": [
    {
     "name": "stdin",
     "output_type": "stream",
     "text": [
      "Enter student's last name or ('ZZZ' to quit):  Sow\n",
      "Enter student's first name:  Aoua\n",
      "Enter student's GPA:  3.5\n"
     ]
    },
    {
     "name": "stdout",
     "output_type": "stream",
     "text": [
      " Aoua Sow has made the Dean's List!\n"
     ]
    },
    {
     "name": "stdin",
     "output_type": "stream",
     "text": [
      "Enter student's last name or ('ZZZ' to quit):  Kouma\n",
      "Enter student's first name:  Adam\n",
      "Enter student's GPA:  3.25\n"
     ]
    },
    {
     "name": "stdout",
     "output_type": "stream",
     "text": [
      "Adam Kouma has made the Honor Roll!\n"
     ]
    },
    {
     "name": "stdin",
     "output_type": "stream",
     "text": [
      "Enter student's last name or ('ZZZ' to quit):  Kouma\n",
      "Enter student's first name:  Racine\n",
      "Enter student's GPA:  2.9\n"
     ]
    },
    {
     "name": "stdout",
     "output_type": "stream",
     "text": [
      "Racine Kouma Does not qualify for Dean's List or Honor Roll\n"
     ]
    },
    {
     "name": "stdin",
     "output_type": "stream",
     "text": [
      "Enter student's last name or ('ZZZ' to quit):  Sow\n",
      "Enter student's first name:  Mariam\n",
      "Enter student's GPA:  3.1\n"
     ]
    },
    {
     "name": "stdout",
     "output_type": "stream",
     "text": [
      "Mariam Sow Does not qualify for Dean's List or Honor Roll\n"
     ]
    },
    {
     "name": "stdin",
     "output_type": "stream",
     "text": [
      "Enter student's last name or ('ZZZ' to quit):  Sow\n",
      "Enter student's first name:  Lahaou\n",
      "Enter student's GPA:  3.5\n"
     ]
    },
    {
     "name": "stdout",
     "output_type": "stream",
     "text": [
      " Lahaou Sow has made the Dean's List!\n"
     ]
    }
   ],
   "source": [
    "\"\"\"\n",
    "Author: Aoua Sow\n",
    "Date: 11/01/2024\n",
    "Desc: Write a Python app that will accept student names and GPAs and test if the student qualifies for either the Dean's List or the Honor Roll \n",
    "\"\"\"\n",
    "\n",
    "def main():\n",
    "    while True:\n",
    "        last_name = input(\"Enter student's last name or ('ZZZ' to quit): \") #accept a student's last name\n",
    "        if last_name == \"ZZZ\": #quit processing\n",
    "            break\n",
    "        first_name = input (\"Enter student's first name: \") #accept a student's first name\n",
    "        gpa = float(input(\"Enter student's GPA: \")) #accept the GPA as a float\n",
    "        if gpa >= 3.5:\n",
    "            print (f\" {first_name} {last_name} has made the Dean's List!\") #check for dean's list qualification\n",
    "        elif gpa >= 3.25:\n",
    "            print (f\"{first_name} {last_name} has made the Honor Roll!\") #check for honor roll qualification\n",
    "        else:\n",
    "            print (f\"{first_name} {last_name} Does not qualify for Dean's List or Honor Roll\") #if the student does not qualify for either\n",
    "\n",
    "#run application\n",
    "main()\n",
    "\n",
    "            \n",
    "        \n",
    "        "
   ]
  },
  {
   "cell_type": "code",
   "execution_count": null,
   "id": "26e1388a-9162-40ed-8b7f-1a6320fbaba5",
   "metadata": {},
   "outputs": [],
   "source": []
  }
 ],
 "metadata": {
  "kernelspec": {
   "display_name": "Python 3 (ipykernel)",
   "language": "python",
   "name": "python3"
  },
  "language_info": {
   "codemirror_mode": {
    "name": "ipython",
    "version": 3
   },
   "file_extension": ".py",
   "mimetype": "text/x-python",
   "name": "python",
   "nbconvert_exporter": "python",
   "pygments_lexer": "ipython3",
   "version": "3.12.7"
  }
 },
 "nbformat": 4,
 "nbformat_minor": 5
}
