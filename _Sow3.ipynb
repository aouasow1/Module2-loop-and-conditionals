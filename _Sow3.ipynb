{
 "cells": [
  {
   "cell_type": "code",
   "execution_count": 26,
   "id": "ccc6d30f-bfa8-47a1-a856-0dcfabb70be3",
   "metadata": {},
   "outputs": [
    {
     "name": "stdout",
     "output_type": "stream",
     "text": [
      "0 0 1 1 2 2 "
     ]
    }
   ],
   "source": [
    "#\n",
    "class Solution:\n",
    "    # Function to sort an array of 0s, 1s, and 2s\n",
    "    def sort012(self, arr):\n",
    "        self.arr = arr\n",
    "        n = len(self.arr)\n",
    "        lo = 0\n",
    "        mid = 0\n",
    "        hi = n - 1\n",
    "        \n",
    "        while mid <= hi:\n",
    "            if arr[mid] == 0:\n",
    "                arr[lo], arr[mid] = arr[mid], arr[lo]\n",
    "                lo = lo + 1\n",
    "                mid = mid + 1\n",
    "            elif arr[mid] == 1:\n",
    "                mid = mid + 1\n",
    "            else:\n",
    "                arr[mid], arr[hi] = arr[hi], arr[mid]\n",
    "                hi = hi - 1\n",
    "                \n",
    "        return arr\n",
    "\n",
    "arr = [0, 1 , 2, 0, 1, 2]            \n",
    "Sol = Solution()\n",
    "arr = Sol.sort012(arr)\n",
    "for x in arr:\n",
    "  print(x, end = \" \")"
   ]
  },
  {
   "cell_type": "code",
   "execution_count": 25,
   "id": "7c2ad952-de9a-4ffa-a4e0-ca5dd6f1fae4",
   "metadata": {},
   "outputs": [
    {
     "name": "stdout",
     "output_type": "stream",
     "text": [
      "Element is present at index  3\n"
     ]
    }
   ],
   "source": [
    "#\n",
    "class Solution:\n",
    "    def binarysearch(self, arr, k):\n",
    "        # Code Here\n",
    "        n=len(arr)\n",
    "        low,high=0,n-1\n",
    "        while low<=high:\n",
    "            mid=int((low+high)/2)\n",
    "            if arr[mid]==k:\n",
    "                return mid\n",
    "            elif arr[mid]>k:\n",
    "                high=mid-1\n",
    "            else:\n",
    "                low=mid+1\n",
    "        return -1\n",
    "\n",
    "arr = [2, 3, 4, 10, 40]\n",
    "x = 10\n",
    "\n",
    "# Function call\n",
    "result = binarySearch(arr, 0, len(arr)-1, x)\n",
    "\n",
    "if result != -1:\n",
    "    print(\"Element is present at index % d\" % result)\n",
    "else:\n",
    "    print(\"Element is not present in array\")\n"
   ]
  },
  {
   "cell_type": "code",
   "execution_count": null,
   "id": "7db6e8dc-7b6a-47f9-931a-1d92b254b1fd",
   "metadata": {},
   "outputs": [],
   "source": []
  }
 ],
 "metadata": {
  "kernelspec": {
   "display_name": "Python 3 (ipykernel)",
   "language": "python",
   "name": "python3"
  },
  "language_info": {
   "codemirror_mode": {
    "name": "ipython",
    "version": 3
   },
   "file_extension": ".py",
   "mimetype": "text/x-python",
   "name": "python",
   "nbconvert_exporter": "python",
   "pygments_lexer": "ipython3",
   "version": "3.12.7"
  }
 },
 "nbformat": 4,
 "nbformat_minor": 5
}
